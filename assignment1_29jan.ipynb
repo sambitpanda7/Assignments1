{
 "cells": [
  {
   "cell_type": "markdown",
   "metadata": {},
   "source": [
    "1.Ans. Python programming language was created by Guido van Rossum.\n",
    "\n",
    "2.Ans. Python is an interpreted programming language, supporting object-oriented, structured, and functional programming.\n",
    "\n",
    "3.Ans. Yes\n",
    "\n",
    "4.Ans. .py extension.\n",
    "\n",
    "5.Ans. Python Code is interpreted\n",
    "\n",
    "6.Ans. A Python program is constructed from code blocks. A block is a piece of Python program text that is executed as a unit. The following are blocks: a module, a function body, and a class definition.\n",
    "\n",
    "7.Ans. # is used to give single line comment in python.\n",
    "\n",
    "8.Ans. Sys.version\n",
    "\n",
    "9.Ans. Python supports the creation of anonymous functions at runtime, using construct called lambda.\n",
    "\n",
    "10.Ans. PIP stands for \"PIP Installs Packages\"\n",
    "\n",
    "11.Ans. abs(),all(),bool(),classmethod(),chr(),etc.\n",
    "\n",
    "12.Ans. Identifiers can be of any length.\n",
    "\n",
    "13.Ans. Python is user friendly, easy to read and write, interpreted language, Ease of comprehension.\n",
    "\n",
    "14.Ans. Memory management in Python involves a private heap containing all Python objects and data structures. The management of this private heap is ensured internally by the Python memory manager.\n",
    "\n",
    "15.Ans. step1: Go to the python site.\n",
    "        step2: Download python for windows.\n",
    "        step3: Open the installation files from the dowload section\n",
    "        step4: Follow the steps in the installation files.\n",
    "        step5: Click on the add to path option\n",
    "        step6: Click on the finish button after the download is over\n",
    "\n",
    "16.Ans. Indentation statement is important in python to define the block statements\n",
    "\n"
   ]
  }
 ],
 "metadata": {
  "kernelspec": {
   "display_name": "Python 3",
   "language": "python",
   "name": "python3"
  },
  "language_info": {
   "codemirror_mode": {
    "name": "ipython",
    "version": 3
   },
   "file_extension": ".py",
   "mimetype": "text/x-python",
   "name": "python",
   "nbconvert_exporter": "python",
   "pygments_lexer": "ipython3",
   "version": "3.11.4"
  },
  "orig_nbformat": 4
 },
 "nbformat": 4,
 "nbformat_minor": 2
}
